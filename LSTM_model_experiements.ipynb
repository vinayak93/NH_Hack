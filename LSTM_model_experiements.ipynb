{
 "cells": [
  {
   "cell_type": "code",
   "execution_count": 1,
   "metadata": {},
   "outputs": [
    {
     "name": "stdout",
     "output_type": "stream",
     "text": [
      "C:\\Users\\veena\\Documents\\NH Hackthon\\News _dataset\n"
     ]
    }
   ],
   "source": [
    "%cd \"C:\\Users\\veena\\Documents\\NH Hackthon\\News _dataset\""
   ]
  },
  {
   "cell_type": "code",
   "execution_count": 2,
   "metadata": {},
   "outputs": [
    {
     "name": "stderr",
     "output_type": "stream",
     "text": [
      "Using TensorFlow backend.\n"
     ]
    }
   ],
   "source": [
    "import pandas as pd\n",
    "from sklearn.model_selection import train_test_split\n",
    "from keras.models import Model\n",
    "from keras.layers import LSTM, Activation, Dense, Dropout, Input, Embedding\n",
    "from keras.utils import to_categorical\n",
    "from keras.optimizers import Adam"
   ]
  },
  {
   "cell_type": "code",
   "execution_count": 3,
   "metadata": {},
   "outputs": [],
   "source": [
    "Fake_data = pd.read_csv(\"Fake.csv\")\n",
    "True_data = pd.read_csv(\"True.csv\")\n",
    "Fake_data[\"category_numeric\"] = 1\n",
    "True_data[\"category_numeric\"] = 0\n",
    "\n",
    "full_data = pd.concat([Fake_data,True_data], axis =0)\n",
    "\n",
    "X = full_data[[ 'text']]\n",
    "y = full_data['category_numeric']"
   ]
  },
  {
   "cell_type": "code",
   "execution_count": 5,
   "metadata": {},
   "outputs": [],
   "source": [
    "from sklearn.preprocessing import LabelEncoder\n",
    "#one hot encoding\n",
    "\n",
    "le = LabelEncoder()\n",
    "Y = le.fit_transform(y)\n",
    "Y = Y.reshape(-1,1)"
   ]
  },
  {
   "cell_type": "code",
   "execution_count": 6,
   "metadata": {},
   "outputs": [],
   "source": [
    "X_train,X_test,Y_train,Y_test = train_test_split(X,Y,test_size=0.2)"
   ]
  },
  {
   "cell_type": "code",
   "execution_count": 27,
   "metadata": {},
   "outputs": [],
   "source": [
    "from keras.preprocessing.text import Tokenizer\n",
    "from keras.preprocessing import sequence\n",
    "\n",
    "max_words = 1000\n",
    "max_len = 150\n",
    "tok = Tokenizer(num_words=max_words)\n",
    "tok.fit_on_texts(X_train.text)\n",
    "sequences = tok.texts_to_sequences(X_train.text)\n",
    "sequences_matrix = sequence.pad_sequences(sequences,maxlen=max_len)"
   ]
  },
  {
   "cell_type": "code",
   "execution_count": 29,
   "metadata": {},
   "outputs": [
    {
     "name": "stdout",
     "output_type": "stream",
     "text": [
      "Model: \"model_8\"\n",
      "_________________________________________________________________\n",
      "Layer (type)                 Output Shape              Param #   \n",
      "=================================================================\n",
      "inputs (InputLayer)          (None, 150)               0         \n",
      "_________________________________________________________________\n",
      "embedding_8 (Embedding)      (None, 150, 50)           50000     \n",
      "_________________________________________________________________\n",
      "lstm_8 (LSTM)                (None, 64)                29440     \n",
      "_________________________________________________________________\n",
      "FC1 (Dense)                  (None, 256)               16640     \n",
      "_________________________________________________________________\n",
      "activation_15 (Activation)   (None, 256)               0         \n",
      "_________________________________________________________________\n",
      "dropout_8 (Dropout)          (None, 256)               0         \n",
      "_________________________________________________________________\n",
      "out_layer (Dense)            (None, 1)                 257       \n",
      "_________________________________________________________________\n",
      "activation_16 (Activation)   (None, 1)                 0         \n",
      "=================================================================\n",
      "Total params: 96,337\n",
      "Trainable params: 96,337\n",
      "Non-trainable params: 0\n",
      "_________________________________________________________________\n"
     ]
    },
    {
     "name": "stderr",
     "output_type": "stream",
     "text": [
      "C:\\Users\\veena\\Anaconda3\\lib\\site-packages\\tensorflow_core\\python\\framework\\indexed_slices.py:424: UserWarning: Converting sparse IndexedSlices to a dense Tensor of unknown shape. This may consume a large amount of memory.\n",
      "  \"Converting sparse IndexedSlices to a dense Tensor of unknown shape. \"\n"
     ]
    },
    {
     "name": "stdout",
     "output_type": "stream",
     "text": [
      "Train on 28734 samples, validate on 7184 samples\n",
      "Epoch 1/10\n",
      "28734/28734 [==============================] - 68s 2ms/step - loss: 0.6648 - accuracy: 0.7821 - val_loss: 0.5061 - val_accuracy: 0.7741\n",
      "Epoch 2/10\n",
      "28734/28734 [==============================] - 68s 2ms/step - loss: 0.2874 - accuracy: 0.8934 - val_loss: 0.1673 - val_accuracy: 0.9472\n",
      "Epoch 3/10\n",
      "28734/28734 [==============================] - 68s 2ms/step - loss: 0.1343 - accuracy: 0.9590 - val_loss: 0.1174 - val_accuracy: 0.9653\n",
      "Epoch 4/10\n",
      "28734/28734 [==============================] - 68s 2ms/step - loss: 0.0984 - accuracy: 0.9706 - val_loss: 0.0953 - val_accuracy: 0.9720\n",
      "Epoch 5/10\n",
      "28734/28734 [==============================] - 68s 2ms/step - loss: 0.0794 - accuracy: 0.9764 - val_loss: 0.0823 - val_accuracy: 0.9747\n",
      "Epoch 6/10\n",
      "28734/28734 [==============================] - 68s 2ms/step - loss: 0.0649 - accuracy: 0.9812 - val_loss: 0.0755 - val_accuracy: 0.9765\n",
      "Epoch 7/10\n",
      "28734/28734 [==============================] - 68s 2ms/step - loss: 0.0566 - accuracy: 0.9841 - val_loss: 0.0743 - val_accuracy: 0.9770\n",
      "Epoch 8/10\n",
      "28734/28734 [==============================] - 68s 2ms/step - loss: 0.0494 - accuracy: 0.9864 - val_loss: 0.0641 - val_accuracy: 0.9798\n",
      "Epoch 9/10\n",
      "28734/28734 [==============================] - 68s 2ms/step - loss: 0.0452 - accuracy: 0.9874 - val_loss: 0.0624 - val_accuracy: 0.9801\n",
      "Epoch 10/10\n",
      "28734/28734 [==============================] - 68s 2ms/step - loss: 0.0406 - accuracy: 0.9886 - val_loss: 0.0569 - val_accuracy: 0.9822\n"
     ]
    },
    {
     "data": {
      "text/plain": [
       "<keras.callbacks.callbacks.History at 0x1a1476088c8>"
      ]
     },
     "execution_count": 29,
     "metadata": {},
     "output_type": "execute_result"
    }
   ],
   "source": [
    "from keras.callbacks import EarlyStopping\n",
    "%matplotlib inline\n",
    "\n",
    "def LSTMKerasModel():\n",
    "    inputs = Input(name='inputs',shape=[max_len])\n",
    "    layer = Embedding(max_words,50,input_length=max_len)(inputs)\n",
    "    layer = LSTM(64)(layer)\n",
    "    layer = Dense(256,name='FC1')(layer)\n",
    "    layer = Activation('relu')(layer)\n",
    "    layer = Dropout(0.5)(layer)\n",
    "    layer = Dense(1,name='out_layer')(layer)\n",
    "    layer = Activation('sigmoid')(layer)\n",
    "    model = Model(inputs=inputs,outputs=layer)\n",
    "    return model\n",
    "\n",
    "\n",
    "model = LSTMKerasModel()\n",
    "\n",
    "model.summary()\n",
    "\n",
    "model.compile(loss='binary_crossentropy', optimizer=Adam(lr=0.00005),metrics=['accuracy'])\n",
    "\n",
    "model.fit(sequences_matrix,Y_train,batch_size=128,epochs=10,\n",
    "          validation_split=0.2,callbacks=[EarlyStopping(monitor='val_loss',min_delta=0.0001)])"
   ]
  },
  {
   "cell_type": "code",
   "execution_count": 30,
   "metadata": {},
   "outputs": [
    {
     "name": "stdout",
     "output_type": "stream",
     "text": [
      "8980/8980 [==============================] - 7s 786us/step\n",
      "Test set\n",
      "  Loss: 0.048\n",
      "  Accuracy: 0.984\n"
     ]
    }
   ],
   "source": [
    "test_seq = tokenize__.texts_to_sequences(X_test.text)\n",
    "test_seq_matrix = sequence.pad_sequences(test_seq,maxlen=max_len)\n",
    "\n",
    "accr = model.evaluate(test_seq_matrix,Y_test)\n",
    "\n",
    "print('Test set\\n  Loss: {:0.3f}\\n  Accuracy: {:0.3f}'.format(accr[0],accr[1]))\n"
   ]
  },
  {
   "cell_type": "code",
   "execution_count": 31,
   "metadata": {},
   "outputs": [],
   "source": [
    "y_pred =  model.predict(test_seq_matrix)"
   ]
  },
  {
   "cell_type": "code",
   "execution_count": 32,
   "metadata": {},
   "outputs": [
    {
     "name": "stdout",
     "output_type": "stream",
     "text": [
      "              precision    recall  f1-score   support\n",
      "\n",
      "           0       0.98      0.99      0.98      4316\n",
      "           1       0.99      0.98      0.98      4664\n",
      "\n",
      "    accuracy                           0.98      8980\n",
      "   macro avg       0.98      0.98      0.98      8980\n",
      "weighted avg       0.98      0.98      0.98      8980\n",
      "\n"
     ]
    }
   ],
   "source": [
    "from sklearn.metrics import classification_report, f1_score\n",
    "print(classification_report(Y_test , y_pred.round()))"
   ]
  },
  {
   "cell_type": "code",
   "execution_count": 33,
   "metadata": {},
   "outputs": [
    {
     "data": {
      "image/png": "[encoded data removed]",
      "text/plain": [
       "<Figure size 432x288 with 2 Axes>"
      ]
     },
     "metadata": {
      "needs_background": "light"
     },
     "output_type": "display_data"
    }
   ],
   "source": [
    "from sklearn.metrics import confusion_matrix\n",
    "from sklearn.metrics import plot_confusion_matrix\n",
    "import matplotlib.pyplot as plt \n",
    "import seaborn as sn\n",
    "cm = confusion_matrix(Y_test, y_pred.round())\n",
    "\n",
    "#plot_confusion_matrix(model, test_sequences_matrix, Y_test)  \n",
    "#plt.show() \n",
    "\n",
    "#sn.set(font_scale=1.4) # for label size\n",
    "sn.heatmap(cm, annot=True, annot_kws={\"size\": 16}) # font size\n",
    "\n",
    "plt.show()"
   ]
  },
  {
   "cell_type": "code",
   "execution_count": 34,
   "metadata": {},
   "outputs": [
    {
     "name": "stdout",
     "output_type": "stream",
     "text": [
      "C:\\Users\\veena\\Documents\\NH Hackthon\n"
     ]
    },
    {
     "name": "stderr",
     "output_type": "stream",
     "text": [
      "C:\\Users\\veena\\AppData\\Roaming\\Python\\Python37\\site-packages\\ipykernel_launcher.py:5: SettingWithCopyWarning: \n",
      "A value is trying to be set on a copy of a slice from a DataFrame.\n",
      "Try using .loc[row_indexer,col_indexer] = value instead\n",
      "\n",
      "See the caveats in the documentation: http://pandas.pydata.org/pandas-docs/stable/user_guide/indexing.html#returning-a-view-versus-a-copy\n",
      "  \"\"\"\n"
     ]
    },
    {
     "name": "stdout",
     "output_type": "stream",
     "text": [
      "Epoch 1/20\n",
      "3951/3951 [==============================] - 8s 2ms/step - loss: 0.5364 - accuracy: 0.7970\n",
      "Epoch 2/20\n"
     ]
    },
    {
     "name": "stderr",
     "output_type": "stream",
     "text": [
      "C:\\Users\\veena\\Anaconda3\\lib\\site-packages\\keras\\callbacks\\callbacks.py:846: RuntimeWarning: Early stopping conditioned on metric `val_loss` which is not available. Available metrics are: loss,accuracy\n",
      "  (self.monitor, ','.join(list(logs.keys()))), RuntimeWarning\n"
     ]
    },
    {
     "name": "stdout",
     "output_type": "stream",
     "text": [
      "3951/3951 [==============================] - 8s 2ms/step - loss: 0.4927 - accuracy: 0.8087\n",
      "Epoch 3/20\n",
      "3951/3951 [==============================] - 9s 2ms/step - loss: 0.4724 - accuracy: 0.8127\n",
      "Epoch 4/20\n",
      "3951/3951 [==============================] - 9s 2ms/step - loss: 0.4600 - accuracy: 0.8152\n",
      "Epoch 5/20\n",
      "3951/3951 [==============================] - 9s 2ms/step - loss: 0.4538 - accuracy: 0.8175\n",
      "Epoch 6/20\n",
      "3951/3951 [==============================] - 9s 2ms/step - loss: 0.4475 - accuracy: 0.8185\n",
      "Epoch 7/20\n",
      "3951/3951 [==============================] - 9s 2ms/step - loss: 0.4428 - accuracy: 0.8213\n",
      "Epoch 8/20\n",
      "3951/3951 [==============================] - 9s 2ms/step - loss: 0.4370 - accuracy: 0.8231\n",
      "Epoch 9/20\n",
      "3951/3951 [==============================] - 9s 2ms/step - loss: 0.4329 - accuracy: 0.8246\n",
      "Epoch 10/20\n",
      "3951/3951 [==============================] - 9s 2ms/step - loss: 0.4300 - accuracy: 0.8254\n",
      "Epoch 11/20\n",
      "3951/3951 [==============================] - 9s 2ms/step - loss: 0.4248 - accuracy: 0.8281\n",
      "Epoch 12/20\n",
      "3951/3951 [==============================] - 9s 2ms/step - loss: 0.4202 - accuracy: 0.8299\n",
      "Epoch 13/20\n",
      "3951/3951 [==============================] - 9s 2ms/step - loss: 0.4168 - accuracy: 0.8317\n",
      "Epoch 14/20\n",
      "3951/3951 [==============================] - 9s 2ms/step - loss: 0.4141 - accuracy: 0.8327\n",
      "Epoch 15/20\n",
      "3951/3951 [==============================] - 9s 2ms/step - loss: 0.4092 - accuracy: 0.8337\n",
      "Epoch 16/20\n",
      "3951/3951 [==============================] - 9s 2ms/step - loss: 0.4065 - accuracy: 0.8319\n",
      "Epoch 17/20\n",
      "3951/3951 [==============================] - 9s 2ms/step - loss: 0.4031 - accuracy: 0.8370\n",
      "Epoch 18/20\n",
      "3951/3951 [==============================] - 9s 2ms/step - loss: 0.4011 - accuracy: 0.8380\n",
      "Epoch 19/20\n",
      "3951/3951 [==============================] - 9s 2ms/step - loss: 0.3941 - accuracy: 0.8393\n",
      "Epoch 20/20\n",
      "3951/3951 [==============================] - 9s 2ms/step - loss: 0.3921 - accuracy: 0.8423\n"
     ]
    },
    {
     "data": {
      "text/plain": [
       "<keras.callbacks.callbacks.History at 0x1a1395af3c8>"
      ]
     },
     "execution_count": 34,
     "metadata": {},
     "output_type": "execute_result"
    }
   ],
   "source": [
    "%cd \"C:\\Users\\veena\\Documents\\NH Hackthon\"\n",
    "current_affair = pd.read_csv(\"current_affairs_new.csv\")\n",
    "\n",
    "current_train_data = current_affair[['Statement', 'category']]\n",
    "current_train_data['category_numeric'] = [0 if x =='TRUE' else 1 for x in current_train_data['category']]\n",
    "\n",
    "current_affair_X = current_train_data[['Statement']]\n",
    "current_affair_Y = current_train_data.category_numeric\n",
    "\n",
    "current_affair_Y = le.fit_transform(current_affair_Y)\n",
    "current_affair_Y = current_affair_Y.reshape(-1,1)\n",
    "#current_affair_Y = to_categorical(current_affair_Y)\n",
    "\n",
    "tokenize__.fit_on_texts(current_affair_X.Statement)\n",
    "current_affair_sequences = tokenize__.texts_to_sequences(current_affair_X.Statement)\n",
    "current_affair_sequences_matrix = sequence.pad_sequences(current_affair_sequences,maxlen=max_len)\n",
    "\n",
    "model.fit(current_affair_sequences_matrix,current_affair_Y,batch_size=128,epochs=20,\n",
    "          validation_split=0,callbacks=[EarlyStopping(monitor='val_loss',min_delta=0.0001)])"
   ]
  },
  {
   "cell_type": "code",
   "execution_count": 35,
   "metadata": {},
   "outputs": [
    {
     "name": "stdout",
     "output_type": "stream",
     "text": [
      "Epoch 1/25\n",
      "15633/15633 [==============================] - 33s 2ms/step - loss: 0.6697 - accuracy: 0.6294\n",
      "Epoch 2/25\n",
      "15633/15633 [==============================] - 35s 2ms/step - loss: 0.6326 - accuracy: 0.6492\n",
      "Epoch 3/25\n",
      "15633/15633 [==============================] - 36s 2ms/step - loss: 0.6196 - accuracy: 0.6599\n",
      "Epoch 4/25\n",
      "15633/15633 [==============================] - 36s 2ms/step - loss: 0.6116 - accuracy: 0.6674\n",
      "Epoch 5/25\n",
      "15633/15633 [==============================] - 37s 2ms/step - loss: 0.6047 - accuracy: 0.6737\n",
      "Epoch 6/25\n",
      "15633/15633 [==============================] - 37s 2ms/step - loss: 0.6001 - accuracy: 0.6781\n",
      "Epoch 7/25\n",
      "15633/15633 [==============================] - 37s 2ms/step - loss: 0.5947 - accuracy: 0.6829\n",
      "Epoch 8/25\n",
      "15633/15633 [==============================] - 36s 2ms/step - loss: 0.5909 - accuracy: 0.6873\n",
      "Epoch 9/25\n",
      "15633/15633 [==============================] - 36s 2ms/step - loss: 0.5868 - accuracy: 0.6914\n",
      "Epoch 10/25\n",
      "15633/15633 [==============================] - 36s 2ms/step - loss: 0.5836 - accuracy: 0.6963\n",
      "Epoch 11/25\n",
      "15633/15633 [==============================] - 36s 2ms/step - loss: 0.5806 - accuracy: 0.6987\n",
      "Epoch 12/25\n",
      "15633/15633 [==============================] - 36s 2ms/step - loss: 0.5777 - accuracy: 0.7001\n",
      "Epoch 13/25\n",
      "15633/15633 [==============================] - 37s 2ms/step - loss: 0.5744 - accuracy: 0.7049\n",
      "Epoch 14/25\n",
      "15633/15633 [==============================] - 37s 2ms/step - loss: 0.5717 - accuracy: 0.7061\n",
      "Epoch 15/25\n",
      "15633/15633 [==============================] - 36s 2ms/step - loss: 0.5698 - accuracy: 0.7077\n",
      "Epoch 16/25\n",
      "15633/15633 [==============================] - 36s 2ms/step - loss: 0.5674 - accuracy: 0.7109\n",
      "Epoch 17/25\n",
      "15633/15633 [==============================] - 36s 2ms/step - loss: 0.5648 - accuracy: 0.7122\n",
      "Epoch 18/25\n",
      "15633/15633 [==============================] - 36s 2ms/step - loss: 0.5628 - accuracy: 0.7131\n",
      "Epoch 19/25\n",
      "15633/15633 [==============================] - 36s 2ms/step - loss: 0.5606 - accuracy: 0.7155\n",
      "Epoch 20/25\n",
      "15633/15633 [==============================] - 36s 2ms/step - loss: 0.5593 - accuracy: 0.7168\n",
      "Epoch 21/25\n",
      "15633/15633 [==============================] - 36s 2ms/step - loss: 0.5576 - accuracy: 0.7178\n",
      "Epoch 22/25\n",
      "15633/15633 [==============================] - 36s 2ms/step - loss: 0.5556 - accuracy: 0.7182\n",
      "Epoch 23/25\n",
      "15633/15633 [==============================] - 36s 2ms/step - loss: 0.5547 - accuracy: 0.7200\n",
      "Epoch 24/25\n",
      "15633/15633 [==============================] - 36s 2ms/step - loss: 0.5532 - accuracy: 0.7208\n",
      "Epoch 25/25\n",
      "15633/15633 [==============================] - 36s 2ms/step - loss: 0.5521 - accuracy: 0.7226\n"
     ]
    },
    {
     "data": {
      "text/plain": [
       "<keras.callbacks.callbacks.History at 0x1a13aa13cc8>"
      ]
     },
     "execution_count": 35,
     "metadata": {},
     "output_type": "execute_result"
    }
   ],
   "source": [
    "current_affair_set2 = pd.read_csv(\"current_affairs_new_2.csv\")\n",
    "current_affair_set2_data = current_affair_set2[['Statement', 'category']]\n",
    "\n",
    "current_affair_set2_X = current_affair_set2_data[['Statement']]\n",
    "current_affair_set2_Y = current_affair_set2_data.category\n",
    "\n",
    "\n",
    "current_affair_set2_Y = le.fit_transform(current_affair_set2_Y)\n",
    "current_affair_set2_Y = current_affair_set2_Y.reshape(-1,1)\n",
    "\n",
    "tokenize__.fit_on_texts(current_affair_set2_X.Statement)\n",
    "current_affair_sequences_set2 = tokenize__.texts_to_sequences(current_affair_set2_X.Statement)\n",
    "current_affair_sequences_matrix_set2 = sequence.pad_sequences(current_affair_sequences_set2,maxlen=maximum_len)\n",
    "\n",
    "model.fit(current_affair_sequences_matrix_set2,current_affair_set2_Y,batch_size=128,epochs=25,\n",
    "          validation_split=0,callbacks=[EarlyStopping(monitor='val_loss',min_delta=0.0001)])\n"
   ]
  },
  {
   "cell_type": "code",
   "execution_count": 37,
   "metadata": {},
   "outputs": [
    {
     "name": "stdout",
     "output_type": "stream",
     "text": [
      "Saved model to disk\n"
     ]
    }
   ],
   "source": [
    "# serialize model to JSON\n",
    "model_json = model.to_json()\n",
    "with open(\"model_LSTM_Dense_layer_1.json\", \"w\") as json_file:\n",
    "    json_file.write(model_json)\n",
    "# serialize weights to HDF5\n",
    "model.save_weights(\"model_LSTM_Dense_layer_1.h5\")\n",
    "print(\"Saved model to disk\")"
   ]
  },
  {
   "cell_type": "code",
   "execution_count": null,
   "metadata": {},
   "outputs": [],
   "source": []
  },
  {
   "cell_type": "code",
   "execution_count": null,
   "metadata": {},
   "outputs": [],
   "source": [
    "import dash\n",
    "import dash_core_components as dcc\n",
    "import dash_html_components as html\n",
    "import plotly.express as px\n",
    "import pandas as pd\n",
    "\n",
    "external_stylesheets = ['https://codepen.io/chriddyp/pen/bWLwgP.css']\n",
    "\n",
    "app = dash.Dash(__name__, external_stylesheets=external_stylesheets)\n",
    "\n",
    "# assume you have a \"long-form\" data frame\n",
    "# see https://plotly.com/python/px-arguments/ for more options\n",
    "df = pd.DataFrame({\n",
    "    \"Fruit\": [\"Apples\", \"Oranges\", \"Bananas\", \"Apples\", \"Oranges\", \"Bananas\"],\n",
    "    \"Amount\": [4, 1, 2, 2, 4, 5],\n",
    "    \"City\": [\"SF\", \"SF\", \"SF\", \"Montreal\", \"Montreal\", \"Montreal\"]\n",
    "})\n",
    "\n",
    "fig = px.bar(df, x=\"Fruit\", y=\"Amount\", color=\"City\", barmode=\"group\")\n",
    "\n",
    "app.layout = html.Div(children=[\n",
    "    html.H1(children='Hello Dash'),\n",
    "\n",
    "    html.Div(children='''\n",
    "        Dash: A web application framework for Python.\n",
    "    '''),\n",
    "\n",
    "    dcc.Graph(\n",
    "        id='example-graph',\n",
    "        figure=fig\n",
    "    ),\n",
    "    \n",
    "    dcc.Textarea(\n",
    "    placeholder='Enter a value...',\n",
    "    value='This is a TextArea component',\n",
    "    style={'width': '100%'}\n",
    ")  \n",
    "])\n",
    "\n",
    "if __name__ == '__main__':\n",
    "    app.run_server(debug=False)"
   ]
  }
 ],
 "metadata": {
  "kernelspec": {
   "display_name": "Python 3",
   "language": "python",
   "name": "python3"
  },
  "language_info": {
   "codemirror_mode": {
    "name": "ipython",
    "version": 3
   },
   "file_extension": ".py",
   "mimetype": "text/x-python",
   "name": "python",
   "nbconvert_exporter": "python",
   "pygments_lexer": "ipython3",
   "version": "3.7.4"
  }
 },
 "nbformat": 4,
 "nbformat_minor": 4
}
