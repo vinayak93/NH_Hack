{
 "cells": [
  {
   "cell_type": "code",
   "execution_count": 1,
   "metadata": {},
   "outputs": [
    {
     "name": "stdout",
     "output_type": "stream",
     "text": [
      "C:\\Users\\veena\\Documents\\NH Hackthon\\News _dataset\n"
     ]
    }
   ],
   "source": [
    "%cd \"C:\\Users\\veena\\Documents\\NH Hackthon\\News _dataset\""
   ]
  },
  {
   "cell_type": "code",
   "execution_count": 26,
   "metadata": {},
   "outputs": [],
   "source": [
    "import pandas as pd\n",
    "from sklearn.model_selection import train_test_split\n",
    "from sklearn.preprocessing import LabelEncoder"
   ]
  },
  {
   "cell_type": "code",
   "execution_count": 3,
   "metadata": {},
   "outputs": [],
   "source": [
    "Fake_data = pd.read_csv(\"Fake.csv\")"
   ]
  },
  {
   "cell_type": "code",
   "execution_count": 4,
   "metadata": {},
   "outputs": [],
   "source": [
    "True_data = pd.read_csv(\"True.csv\")"
   ]
  },
  {
   "cell_type": "code",
   "execution_count": 7,
   "metadata": {},
   "outputs": [],
   "source": [
    "Fake_data[\"category\"] = \"fake\""
   ]
  },
  {
   "cell_type": "code",
   "execution_count": 11,
   "metadata": {},
   "outputs": [],
   "source": [
    "Fake_data[\"category_numeric\"] = 0"
   ]
  },
  {
   "cell_type": "code",
   "execution_count": 14,
   "metadata": {},
   "outputs": [
    {
     "data": {
      "text/html": [
       "<div>\n",
       "<style scoped>\n",
       "    .dataframe tbody tr th:only-of-type {\n",
       "        vertical-align: middle;\n",
       "    }\n",
       "\n",
       "    .dataframe tbody tr th {\n",
       "        vertical-align: top;\n",
       "    }\n",
       "\n",
       "    .dataframe thead th {\n",
       "        text-align: right;\n",
       "    }\n",
       "</style>\n",
       "<table border=\"1\" class=\"dataframe\">\n",
       "  <thead>\n",
       "    <tr style=\"text-align: right;\">\n",
       "      <th></th>\n",
       "      <th>title</th>\n",
       "      <th>text</th>\n",
       "      <th>subject</th>\n",
       "      <th>date</th>\n",
       "      <th>category</th>\n",
       "      <th>category_numeric</th>\n",
       "    </tr>\n",
       "  </thead>\n",
       "  <tbody>\n",
       "    <tr>\n",
       "      <td>0</td>\n",
       "      <td>Donald Trump Sends Out Embarrassing New Year’...</td>\n",
       "      <td>Donald Trump just couldn t wish all Americans ...</td>\n",
       "      <td>News</td>\n",
       "      <td>December 31, 2017</td>\n",
       "      <td>fake</td>\n",
       "      <td>0</td>\n",
       "    </tr>\n",
       "    <tr>\n",
       "      <td>1</td>\n",
       "      <td>Drunk Bragging Trump Staffer Started Russian ...</td>\n",
       "      <td>House Intelligence Committee Chairman Devin Nu...</td>\n",
       "      <td>News</td>\n",
       "      <td>December 31, 2017</td>\n",
       "      <td>fake</td>\n",
       "      <td>0</td>\n",
       "    </tr>\n",
       "    <tr>\n",
       "      <td>2</td>\n",
       "      <td>Sheriff David Clarke Becomes An Internet Joke...</td>\n",
       "      <td>On Friday, it was revealed that former Milwauk...</td>\n",
       "      <td>News</td>\n",
       "      <td>December 30, 2017</td>\n",
       "      <td>fake</td>\n",
       "      <td>0</td>\n",
       "    </tr>\n",
       "    <tr>\n",
       "      <td>3</td>\n",
       "      <td>Trump Is So Obsessed He Even Has Obama’s Name...</td>\n",
       "      <td>On Christmas day, Donald Trump announced that ...</td>\n",
       "      <td>News</td>\n",
       "      <td>December 29, 2017</td>\n",
       "      <td>fake</td>\n",
       "      <td>0</td>\n",
       "    </tr>\n",
       "    <tr>\n",
       "      <td>4</td>\n",
       "      <td>Pope Francis Just Called Out Donald Trump Dur...</td>\n",
       "      <td>Pope Francis used his annual Christmas Day mes...</td>\n",
       "      <td>News</td>\n",
       "      <td>December 25, 2017</td>\n",
       "      <td>fake</td>\n",
       "      <td>0</td>\n",
       "    </tr>\n",
       "    <tr>\n",
       "      <td>...</td>\n",
       "      <td>...</td>\n",
       "      <td>...</td>\n",
       "      <td>...</td>\n",
       "      <td>...</td>\n",
       "      <td>...</td>\n",
       "      <td>...</td>\n",
       "    </tr>\n",
       "    <tr>\n",
       "      <td>23476</td>\n",
       "      <td>McPain: John McCain Furious That Iran Treated ...</td>\n",
       "      <td>21st Century Wire says As 21WIRE reported earl...</td>\n",
       "      <td>Middle-east</td>\n",
       "      <td>January 16, 2016</td>\n",
       "      <td>fake</td>\n",
       "      <td>0</td>\n",
       "    </tr>\n",
       "    <tr>\n",
       "      <td>23477</td>\n",
       "      <td>JUSTICE? Yahoo Settles E-mail Privacy Class-ac...</td>\n",
       "      <td>21st Century Wire says It s a familiar theme. ...</td>\n",
       "      <td>Middle-east</td>\n",
       "      <td>January 16, 2016</td>\n",
       "      <td>fake</td>\n",
       "      <td>0</td>\n",
       "    </tr>\n",
       "    <tr>\n",
       "      <td>23478</td>\n",
       "      <td>Sunnistan: US and Allied ‘Safe Zone’ Plan to T...</td>\n",
       "      <td>Patrick Henningsen  21st Century WireRemember ...</td>\n",
       "      <td>Middle-east</td>\n",
       "      <td>January 15, 2016</td>\n",
       "      <td>fake</td>\n",
       "      <td>0</td>\n",
       "    </tr>\n",
       "    <tr>\n",
       "      <td>23479</td>\n",
       "      <td>How to Blow $700 Million: Al Jazeera America F...</td>\n",
       "      <td>21st Century Wire says Al Jazeera America will...</td>\n",
       "      <td>Middle-east</td>\n",
       "      <td>January 14, 2016</td>\n",
       "      <td>fake</td>\n",
       "      <td>0</td>\n",
       "    </tr>\n",
       "    <tr>\n",
       "      <td>23480</td>\n",
       "      <td>10 U.S. Navy Sailors Held by Iranian Military ...</td>\n",
       "      <td>21st Century Wire says As 21WIRE predicted in ...</td>\n",
       "      <td>Middle-east</td>\n",
       "      <td>January 12, 2016</td>\n",
       "      <td>fake</td>\n",
       "      <td>0</td>\n",
       "    </tr>\n",
       "  </tbody>\n",
       "</table>\n",
       "<p>23481 rows × 6 columns</p>\n",
       "</div>"
      ],
      "text/plain": [
       "                                                   title  \\\n",
       "0       Donald Trump Sends Out Embarrassing New Year’...   \n",
       "1       Drunk Bragging Trump Staffer Started Russian ...   \n",
       "2       Sheriff David Clarke Becomes An Internet Joke...   \n",
       "3       Trump Is So Obsessed He Even Has Obama’s Name...   \n",
       "4       Pope Francis Just Called Out Donald Trump Dur...   \n",
       "...                                                  ...   \n",
       "23476  McPain: John McCain Furious That Iran Treated ...   \n",
       "23477  JUSTICE? Yahoo Settles E-mail Privacy Class-ac...   \n",
       "23478  Sunnistan: US and Allied ‘Safe Zone’ Plan to T...   \n",
       "23479  How to Blow $700 Million: Al Jazeera America F...   \n",
       "23480  10 U.S. Navy Sailors Held by Iranian Military ...   \n",
       "\n",
       "                                                    text      subject  \\\n",
       "0      Donald Trump just couldn t wish all Americans ...         News   \n",
       "1      House Intelligence Committee Chairman Devin Nu...         News   \n",
       "2      On Friday, it was revealed that former Milwauk...         News   \n",
       "3      On Christmas day, Donald Trump announced that ...         News   \n",
       "4      Pope Francis used his annual Christmas Day mes...         News   \n",
       "...                                                  ...          ...   \n",
       "23476  21st Century Wire says As 21WIRE reported earl...  Middle-east   \n",
       "23477  21st Century Wire says It s a familiar theme. ...  Middle-east   \n",
       "23478  Patrick Henningsen  21st Century WireRemember ...  Middle-east   \n",
       "23479  21st Century Wire says Al Jazeera America will...  Middle-east   \n",
       "23480  21st Century Wire says As 21WIRE predicted in ...  Middle-east   \n",
       "\n",
       "                    date category  category_numeric  \n",
       "0      December 31, 2017     fake                 0  \n",
       "1      December 31, 2017     fake                 0  \n",
       "2      December 30, 2017     fake                 0  \n",
       "3      December 29, 2017     fake                 0  \n",
       "4      December 25, 2017     fake                 0  \n",
       "...                  ...      ...               ...  \n",
       "23476   January 16, 2016     fake                 0  \n",
       "23477   January 16, 2016     fake                 0  \n",
       "23478   January 15, 2016     fake                 0  \n",
       "23479   January 14, 2016     fake                 0  \n",
       "23480   January 12, 2016     fake                 0  \n",
       "\n",
       "[23481 rows x 6 columns]"
      ]
     },
     "execution_count": 14,
     "metadata": {},
     "output_type": "execute_result"
    }
   ],
   "source": [
    "Fake_data"
   ]
  },
  {
   "cell_type": "code",
   "execution_count": 15,
   "metadata": {},
   "outputs": [
    {
     "data": {
      "text/plain": [
       "['title', 'text', 'subject', 'date', 'category', 'category_numeric']"
      ]
     },
     "execution_count": 15,
     "metadata": {},
     "output_type": "execute_result"
    }
   ],
   "source": [
    "list(Fake_data)"
   ]
  },
  {
   "cell_type": "code",
   "execution_count": 9,
   "metadata": {},
   "outputs": [
    {
     "data": {
      "text/plain": [
       "pandas.core.series.Series"
      ]
     },
     "execution_count": 9,
     "metadata": {},
     "output_type": "execute_result"
    }
   ],
   "source": [
    "type(Fake_data.category)"
   ]
  },
  {
   "cell_type": "code",
   "execution_count": 10,
   "metadata": {},
   "outputs": [],
   "source": [
    "True_data[\"category\"] = \"real\""
   ]
  },
  {
   "cell_type": "code",
   "execution_count": 12,
   "metadata": {},
   "outputs": [],
   "source": [
    "True_data[\"category_numeric\"] = 1"
   ]
  },
  {
   "cell_type": "code",
   "execution_count": 13,
   "metadata": {},
   "outputs": [],
   "source": [
    "full_data = pd.concat([Fake_data,True_data], axis =0)"
   ]
  },
  {
   "cell_type": "code",
   "execution_count": 20,
   "metadata": {},
   "outputs": [],
   "source": [
    "X = full_data[['title', 'text', 'subject', 'date']]"
   ]
  },
  {
   "cell_type": "code",
   "execution_count": 16,
   "metadata": {},
   "outputs": [],
   "source": [
    "y = full_data['category_numeric']"
   ]
  },
  {
   "cell_type": "code",
   "execution_count": 27,
   "metadata": {},
   "outputs": [],
   "source": [
    "#one hot encoding\n",
    "\n",
    "le = LabelEncoder()\n",
    "Y = le.fit_transform(y)\n",
    "Y = Y.reshape(-1,1)"
   ]
  },
  {
   "cell_type": "code",
   "execution_count": 28,
   "metadata": {},
   "outputs": [],
   "source": [
    "X_train,X_test,Y_train,Y_test = train_test_split(X,Y,test_size=0.2)"
   ]
  },
  {
   "cell_type": "code",
   "execution_count": 33,
   "metadata": {},
   "outputs": [
    {
     "name": "stdout",
     "output_type": "stream",
     "text": [
      "(35918, 4)\n",
      "(35918, 1)\n"
     ]
    }
   ],
   "source": [
    "print(X_train.shape)\n",
    "print(Y_train.shape)"
   ]
  },
  {
   "cell_type": "code",
   "execution_count": 34,
   "metadata": {},
   "outputs": [
    {
     "name": "stdout",
     "output_type": "stream",
     "text": [
      "(8980, 4)\n",
      "(8980, 1)\n"
     ]
    }
   ],
   "source": [
    "print(X_test.shape)\n",
    "print(Y_test.shape)"
   ]
  },
  {
   "cell_type": "code",
   "execution_count": 36,
   "metadata": {},
   "outputs": [],
   "source": [
    "from keras.preprocessing.text import Tokenizer\n",
    "from keras.preprocessing import sequence\n",
    "\n",
    "max_words = 1000\n",
    "max_len = 150\n",
    "tok = Tokenizer(num_words=max_words)\n",
    "tok.fit_on_texts(X_train.text)\n",
    "sequences = tok.texts_to_sequences(X_train.text)\n",
    "sequences_matrix = sequence.pad_sequences(sequences,maxlen=max_len)"
   ]
  },
  {
   "cell_type": "code",
   "execution_count": 107,
   "metadata": {},
   "outputs": [
    {
     "data": {
      "text/plain": [
       "array([[ 22,  69,  79, ..., 495,  49,   1],\n",
       "       [  0,   0,   0, ..., 718,  20, 222],\n",
       "       [728,  59,   7, ..., 446, 944, 200],\n",
       "       ...,\n",
       "       [  0,   0,   0, ...,  16,   1,   6],\n",
       "       [  1, 162,  11, ..., 242, 495,  49],\n",
       "       [  5,  76, 401, ...,  10, 311, 608]])"
      ]
     },
     "execution_count": 107,
     "metadata": {},
     "output_type": "execute_result"
    }
   ],
   "source": [
    "sequences_matrix"
   ]
  },
  {
   "cell_type": "code",
   "execution_count": 38,
   "metadata": {},
   "outputs": [],
   "source": [
    "from keras.models import Model\n",
    "from keras.layers import LSTM, Activation, Dense, Dropout, Input, Embedding\n",
    "\n",
    "def LSTMKerasModel():\n",
    "    inputs = Input(name='inputs',shape=[max_len])\n",
    "    layer = Embedding(max_words,50,input_length=max_len)(inputs)\n",
    "    layer = LSTM(64)(layer)\n",
    "    layer = Dense(256,name='FC1')(layer)\n",
    "    layer = Activation('relu')(layer)\n",
    "    layer = Dropout(0.5)(layer)\n",
    "    layer = Dense(1,name='out_layer')(layer)\n",
    "    layer = Activation('sigmoid')(layer)\n",
    "    model = Model(inputs=inputs,outputs=layer)\n",
    "    return model"
   ]
  },
  {
   "cell_type": "code",
   "execution_count": 40,
   "metadata": {},
   "outputs": [
    {
     "name": "stdout",
     "output_type": "stream",
     "text": [
      "Model: \"model_1\"\n",
      "_________________________________________________________________\n",
      "Layer (type)                 Output Shape              Param #   \n",
      "=================================================================\n",
      "inputs (InputLayer)          (None, 150)               0         \n",
      "_________________________________________________________________\n",
      "embedding_1 (Embedding)      (None, 150, 50)           50000     \n",
      "_________________________________________________________________\n",
      "lstm_1 (LSTM)                (None, 64)                29440     \n",
      "_________________________________________________________________\n",
      "FC1 (Dense)                  (None, 256)               16640     \n",
      "_________________________________________________________________\n",
      "activation_1 (Activation)    (None, 256)               0         \n",
      "_________________________________________________________________\n",
      "dropout_1 (Dropout)          (None, 256)               0         \n",
      "_________________________________________________________________\n",
      "out_layer (Dense)            (None, 1)                 257       \n",
      "_________________________________________________________________\n",
      "activation_2 (Activation)    (None, 1)                 0         \n",
      "=================================================================\n",
      "Total params: 96,337\n",
      "Trainable params: 96,337\n",
      "Non-trainable params: 0\n",
      "_________________________________________________________________\n"
     ]
    }
   ],
   "source": [
    "from keras.optimizers import Adam\n",
    "\n",
    "model = LSTMKerasModel()\n",
    "model.summary()\n",
    "model.compile(loss='binary_crossentropy', optimizer=Adam(lr=0.005),metrics=['accuracy'])"
   ]
  },
  {
   "cell_type": "code",
   "execution_count": 42,
   "metadata": {},
   "outputs": [
    {
     "name": "stderr",
     "output_type": "stream",
     "text": [
      "C:\\Users\\veena\\Anaconda3\\lib\\site-packages\\tensorflow_core\\python\\framework\\indexed_slices.py:424: UserWarning: Converting sparse IndexedSlices to a dense Tensor of unknown shape. This may consume a large amount of memory.\n",
      "  \"Converting sparse IndexedSlices to a dense Tensor of unknown shape. \"\n"
     ]
    },
    {
     "name": "stdout",
     "output_type": "stream",
     "text": [
      "Train on 28734 samples, validate on 7184 samples\n",
      "Epoch 1/10\n",
      "28734/28734 [==============================] - 37s 1ms/step - loss: 0.1500 - accuracy: 0.9452 - val_loss: 0.0929 - val_accuracy: 0.9688\n",
      "Epoch 2/10\n",
      "28734/28734 [==============================] - 39s 1ms/step - loss: 0.1153 - accuracy: 0.9626 - val_loss: 0.0845 - val_accuracy: 0.9741\n",
      "Epoch 3/10\n",
      "28734/28734 [==============================] - 38s 1ms/step - loss: 0.0905 - accuracy: 0.9729 - val_loss: 0.0606 - val_accuracy: 0.9811\n",
      "Epoch 4/10\n",
      "28734/28734 [==============================] - 38s 1ms/step - loss: 0.0680 - accuracy: 0.9758 - val_loss: 0.0596 - val_accuracy: 0.9788\n",
      "Epoch 5/10\n",
      "28734/28734 [==============================] - 38s 1ms/step - loss: 0.0494 - accuracy: 0.9835 - val_loss: 0.0588 - val_accuracy: 0.9819\n",
      "Epoch 6/10\n",
      "28734/28734 [==============================] - 38s 1ms/step - loss: 0.0436 - accuracy: 0.9858 - val_loss: 0.0420 - val_accuracy: 0.9825\n",
      "Epoch 7/10\n",
      "28734/28734 [==============================] - 39s 1ms/step - loss: 0.0261 - accuracy: 0.9910 - val_loss: 0.0261 - val_accuracy: 0.9911\n",
      "Epoch 8/10\n",
      "28734/28734 [==============================] - 39s 1ms/step - loss: 0.0167 - accuracy: 0.9943 - val_loss: 0.0252 - val_accuracy: 0.9929\n",
      "Epoch 9/10\n",
      "28734/28734 [==============================] - 40s 1ms/step - loss: 0.0124 - accuracy: 0.9957 - val_loss: 0.0264 - val_accuracy: 0.9922\n"
     ]
    },
    {
     "data": {
      "text/plain": [
       "<keras.callbacks.callbacks.History at 0x1de280d8bc8>"
      ]
     },
     "execution_count": 42,
     "metadata": {},
     "output_type": "execute_result"
    }
   ],
   "source": [
    "from keras.callbacks import EarlyStopping\n",
    "%matplotlib inline\n",
    "\n",
    "model.fit(sequences_matrix,Y_train,batch_size=128,epochs=10,\n",
    "          validation_split=0.2,callbacks=[EarlyStopping(monitor='val_loss',min_delta=0.0001)])"
   ]
  },
  {
   "cell_type": "code",
   "execution_count": 43,
   "metadata": {},
   "outputs": [],
   "source": [
    "test_sequences = tok.texts_to_sequences(X_test.text)\n",
    "test_sequences_matrix = sequence.pad_sequences(test_sequences,maxlen=max_len)"
   ]
  },
  {
   "cell_type": "code",
   "execution_count": 44,
   "metadata": {},
   "outputs": [
    {
     "name": "stdout",
     "output_type": "stream",
     "text": [
      "8980/8980 [==============================] - 5s 550us/step\n"
     ]
    }
   ],
   "source": [
    "accr = model.evaluate(test_sequences_matrix,Y_test)"
   ]
  },
  {
   "cell_type": "code",
   "execution_count": 45,
   "metadata": {},
   "outputs": [
    {
     "name": "stdout",
     "output_type": "stream",
     "text": [
      "Test set\n",
      "  Loss: 0.044\n",
      "  Accuracy: 0.989\n"
     ]
    }
   ],
   "source": [
    "print('Test set\\n  Loss: {:0.3f}\\n  Accuracy: {:0.3f}'.format(accr[0],accr[1]))"
   ]
  },
  {
   "cell_type": "code",
   "execution_count": 153,
   "metadata": {},
   "outputs": [],
   "source": [
    "y_pred =  model.predict(test_sequences_matrix)"
   ]
  },
  {
   "cell_type": "code",
   "execution_count": 156,
   "metadata": {},
   "outputs": [
    {
     "name": "stdout",
     "output_type": "stream",
     "text": [
      "              precision    recall  f1-score   support\n",
      "\n",
      "           0       0.95      0.95      0.95      4654\n",
      "           1       0.94      0.94      0.94      4326\n",
      "\n",
      "    accuracy                           0.95      8980\n",
      "   macro avg       0.95      0.95      0.95      8980\n",
      "weighted avg       0.95      0.95      0.95      8980\n",
      "\n"
     ]
    }
   ],
   "source": [
    "from sklearn.metrics import classification_report, f1_score\n",
    "print(classification_report(Y_test , y_pred.round()))"
   ]
  },
  {
   "cell_type": "code",
   "execution_count": 163,
   "metadata": {},
   "outputs": [
    {
     "data": {
      "image/png": "[encoded data removed]",
      "text/plain": [
       "<Figure size 432x288 with 2 Axes>"
      ]
     },
     "metadata": {},
     "output_type": "display_data"
    }
   ],
   "source": [
    "from sklearn.metrics import confusion_matrix\n",
    "from sklearn.metrics import plot_confusion_matrix\n",
    "import matplotlib.pyplot as plt \n",
    "import seaborn as sn\n",
    "cm = confusion_matrix(Y_test, y_pred.round())\n",
    "\n",
    "#plot_confusion_matrix(model, test_sequences_matrix, Y_test)  \n",
    "#plt.show() \n",
    "\n",
    "#sn.set(font_scale=1.4) # for label size\n",
    "sn.heatmap(cm, annot=True, annot_kws={\"size\": 16}) # font size\n",
    "\n",
    "plt.show()"
   ]
  },
  {
   "cell_type": "code",
   "execution_count": 165,
   "metadata": {},
   "outputs": [
    {
     "name": "stdout",
     "output_type": "stream",
     "text": [
      "C:\\Users\\veena\\Documents\\NH Hackthon\n"
     ]
    },
    {
     "name": "stderr",
     "output_type": "stream",
     "text": [
      "C:\\Users\\veena\\AppData\\Roaming\\Python\\Python37\\site-packages\\ipykernel_launcher.py:5: SettingWithCopyWarning: \n",
      "A value is trying to be set on a copy of a slice from a DataFrame.\n",
      "Try using .loc[row_indexer,col_indexer] = value instead\n",
      "\n",
      "See the caveats in the documentation: http://pandas.pydata.org/pandas-docs/stable/user_guide/indexing.html#returning-a-view-versus-a-copy\n",
      "  \"\"\"\n"
     ]
    },
    {
     "name": "stdout",
     "output_type": "stream",
     "text": [
      "Epoch 1/10\n",
      "3951/3951 [==============================] - 6s 2ms/step - loss: 0.5473 - accuracy: 0.7603: 5s - loss: 0.7569 - accuracy - ETA: 4s - loss: 0.6833 - accuracy:  - ETA: 4s - loss: 0.6425 - accu - ETA: 2s - l\n",
      "Epoch 2/10\n",
      " 128/3951 [..............................] - ETA: 5s - loss: 0.4566 - accuracy: 0.8281"
     ]
    },
    {
     "name": "stderr",
     "output_type": "stream",
     "text": [
      "C:\\Users\\veena\\Anaconda3\\lib\\site-packages\\keras\\callbacks\\callbacks.py:846: RuntimeWarning: Early stopping conditioned on metric `val_loss` which is not available. Available metrics are: loss,accuracy\n",
      "  (self.monitor, ','.join(list(logs.keys()))), RuntimeWarning\n"
     ]
    },
    {
     "name": "stdout",
     "output_type": "stream",
     "text": [
      "3951/3951 [==============================] - 6s 2ms/step - loss: 0.4599 - accuracy: 0.8231: 2s - loss: 0.4531 - accura - ETA: 1s - loss: 0.4518 - ac\n",
      "Epoch 3/10\n",
      "3951/3951 [==============================] - 6s 2ms/step - loss: 0.4293 - accuracy: 0.8226: 4s - - ETA: 1s - loss: 0.4290 - \n",
      "Epoch 4/10\n",
      "3951/3951 [==============================] - 6s 2ms/step - loss: 0.3874 - accuracy: 0.8233\n",
      "Epoch 5/10\n",
      "3951/3951 [==============================] - 6s 2ms/step - loss: 0.3434 - accuracy: 0.8390: 1s - loss: 0.3420 - \n",
      "Epoch 6/10\n",
      "3951/3951 [==============================] - 6s 2ms/step - loss: 0.2827 - accuracy: 0.8704\n",
      "Epoch 7/10\n",
      "3951/3951 [==============================] - 7s 2ms/step - loss: 0.2408 - accuracy: 0.8970\n",
      "Epoch 8/10\n",
      "3951/3951 [==============================] - 6s 2ms/step - loss: 0.2168 - accuracy: 0.9142\n",
      "Epoch 9/10\n",
      "3951/3951 [==============================] - ETA: 0s - loss: 0.1585 - accuracy: 0.9393 ETA: 3s - loss: 0 - ETA: 1s - loss: 0.1558 -  - 6s 2ms/step - loss: 0.1589 - accuracy: 0.9382\n",
      "Epoch 10/10\n",
      "3951/3951 [==============================] - 6s 2ms/step - loss: 0.1260 - accuracy: 0.9580\n"
     ]
    },
    {
     "data": {
      "text/plain": [
       "<keras.callbacks.callbacks.History at 0x1de430d28c8>"
      ]
     },
     "execution_count": 165,
     "metadata": {},
     "output_type": "execute_result"
    }
   ],
   "source": [
    "%cd \"C:\\Users\\veena\\Documents\\NH Hackthon\"\n",
    "current_affair = pd.read_csv(\"current_affairs_new.csv\")\n",
    "\n",
    "current_train_data = current_affair[['Statement', 'category']]\n",
    "current_train_data['category_numeric'] = [0 if x =='TRUE' else 1 for x in current_train_data['category']]\n",
    "\n",
    "current_affair_X = current_train_data[['Statement']]\n",
    "current_affair_Y = current_train_data.category_numeric\n",
    "\n",
    "current_affair_Y = le.fit_transform(current_affair_Y)\n",
    "current_affair_Y = current_affair_Y.reshape(-1,1)\n",
    "#current_affair_Y = to_categorical(current_affair_Y)\n",
    "\n",
    "tok.fit_on_texts(current_affair_X.Statement)\n",
    "current_affair_sequences = tok.texts_to_sequences(current_affair_X.Statement)\n",
    "current_affair_sequences_matrix = sequence.pad_sequences(current_affair_sequences,maxlen=max_len)\n",
    "\n",
    "model.fit(current_affair_sequences_matrix,current_affair_Y,batch_size=128,epochs=10,\n",
    "          validation_split=0,callbacks=[EarlyStopping(monitor='val_loss',min_delta=0.0001)])\n"
   ]
  },
  {
   "cell_type": "code",
   "execution_count": 56,
   "metadata": {},
   "outputs": [
    {
     "data": {
      "text/plain": [
       "pandas.core.frame.DataFrame"
      ]
     },
     "execution_count": 56,
     "metadata": {},
     "output_type": "execute_result"
    }
   ],
   "source": [
    "type(X_test)"
   ]
  },
  {
   "cell_type": "code",
   "execution_count": 118,
   "metadata": {},
   "outputs": [],
   "source": [
    "import numpy as np\n",
    "Y_test\n",
    "dem = [1, 0, 1 ]\n",
    "\n",
    "dem_Y = le.fit_transform(dem)\n",
    "dem_Y = dem_Y.reshape(-1,1)\n",
    "\n",
    "text = [\"Jeanne Shaheen is the current senetor of New hampshire\", \"Joe Biden died in 48 seconds due to major heart attack\",\"Jeanne Shaheen is the current senetor of New hampshire\"]\n",
    "dem_X = pd.DataFrame(data = text)\n",
    "dem_X.columns = ['text']\n"
   ]
  },
  {
   "cell_type": "code",
   "execution_count": 119,
   "metadata": {},
   "outputs": [
    {
     "data": {
      "text/plain": [
       "[1, 0, 1]"
      ]
     },
     "execution_count": 119,
     "metadata": {},
     "output_type": "execute_result"
    }
   ],
   "source": [
    "dem"
   ]
  },
  {
   "cell_type": "code",
   "execution_count": 120,
   "metadata": {},
   "outputs": [
    {
     "name": "stdout",
     "output_type": "stream",
     "text": [
      "\r",
      "3/3 [==============================] - 0s 5ms/step\n"
     ]
    }
   ],
   "source": [
    "demo_seq = tok.texts_to_sequences(dem_X.text)\n",
    "demo_seq_matrix = sequence.pad_sequences(demo_seq,maxlen=max_len)\n",
    "demo_acc = model.evaluate(demo_seq_matrix,dem_Y)"
   ]
  },
  {
   "cell_type": "code",
   "execution_count": 121,
   "metadata": {},
   "outputs": [
    {
     "name": "stdout",
     "output_type": "stream",
     "text": [
      "Test set\n",
      "  Loss: 2.786\n",
      "  Accuracy: 0.333\n"
     ]
    }
   ],
   "source": [
    "print('Test set\\n  Loss: {:0.3f}\\n  Accuracy: {:0.3f}'.format(demo_acc[0],demo_acc[1]))"
   ]
  },
  {
   "cell_type": "code",
   "execution_count": 122,
   "metadata": {},
   "outputs": [
    {
     "name": "stdout",
     "output_type": "stream",
     "text": [
      "\r",
      "3/3 [==============================] - 0s 4ms/step\n"
     ]
    }
   ],
   "source": [
    "ynew = model.predict(demo_seq_matrix,verbose=1)"
   ]
  },
  {
   "cell_type": "code",
   "execution_count": 123,
   "metadata": {},
   "outputs": [
    {
     "data": {
      "text/plain": [
       "array([[0.01533068],\n",
       "       [0.00139869],\n",
       "       [0.01533068]], dtype=float32)"
      ]
     },
     "execution_count": 123,
     "metadata": {},
     "output_type": "execute_result"
    }
   ],
   "source": [
    "ynew"
   ]
  },
  {
   "cell_type": "code",
   "execution_count": 125,
   "metadata": {},
   "outputs": [
    {
     "name": "stdout",
     "output_type": "stream",
     "text": [
      "2/2 [==============================] - 0s 7ms/step\n",
      "demo_acc [1.1949105262756348, 0.5]\n",
      "Epoch 1/10\n",
      "2/2 [==============================] - 0s 28ms/step - loss: 1.0816 - accuracy: 0.5000\n",
      "Epoch 2/10\n",
      "2/2 [==============================] - 0s 25ms/step - loss: 0.1621 - accuracy: 1.0000\n",
      "Epoch 3/10\n",
      "2/2 [==============================] - 0s 25ms/step - loss: 0.1249 - accuracy: 1.0000\n",
      "Epoch 4/10\n",
      "2/2 [==============================] - 0s 24ms/step - loss: 0.1127 - accuracy: 1.0000\n"
     ]
    },
    {
     "name": "stderr",
     "output_type": "stream",
     "text": [
      "C:\\Users\\veena\\Anaconda3\\lib\\site-packages\\keras\\callbacks\\callbacks.py:846: RuntimeWarning: Early stopping conditioned on metric `val_loss` which is not available. Available metrics are: loss,accuracy\n",
      "  (self.monitor, ','.join(list(logs.keys()))), RuntimeWarning\n"
     ]
    },
    {
     "name": "stdout",
     "output_type": "stream",
     "text": [
      "Epoch 5/10\n",
      "2/2 [==============================] - 0s 25ms/step - loss: 0.0416 - accuracy: 1.0000\n",
      "Epoch 6/10\n",
      "2/2 [==============================] - 0s 25ms/step - loss: 0.0054 - accuracy: 1.0000\n",
      "Epoch 7/10\n",
      "2/2 [==============================] - 0s 25ms/step - loss: 0.0052 - accuracy: 1.0000\n",
      "Epoch 8/10\n",
      "2/2 [==============================] - 0s 23ms/step - loss: 0.0142 - accuracy: 1.0000\n",
      "Epoch 9/10\n",
      "2/2 [==============================] - 0s 24ms/step - loss: 0.0074 - accuracy: 1.0000\n",
      "Epoch 10/10\n",
      "2/2 [==============================] - 0s 25ms/step - loss: 0.0014 - accuracy: 1.0000\n",
      "2/2 [==============================] - 0s 7ms/step\n",
      "demo_acc [0.0009224574896506965, 1.0]\n"
     ]
    }
   ],
   "source": [
    "dem = [1, 0]\n",
    "\n",
    "dem_Y = le.fit_transform(dem)\n",
    "dem_Y = dem_Y.reshape(-1,1)\n",
    "\n",
    "text = [\"Jeanne Shaheen is the current senetor of New hampshire\", \"Joe Biden died in 48 seconds due to major heart attack\"]\n",
    "dem_X = pd.DataFrame(data = text)\n",
    "dem_X.columns = ['text']\n",
    "\n",
    "demo_seq = tok.texts_to_sequences(dem_X.text)\n",
    "demo_seq_matrix = sequence.pad_sequences(demo_seq,maxlen=max_len)\n",
    "demo_acc = model.evaluate(demo_seq_matrix,dem_Y)\n",
    "print(\"demo_acc\",demo_acc)\n",
    "model.fit(demo_seq_matrix,dem_Y,batch_size=128,epochs=10,\n",
    "          validation_split=0,callbacks=[EarlyStopping(monitor='val_loss',min_delta=0.0001)])\n",
    "demo_acc = model.evaluate(demo_seq_matrix,dem_Y)\n",
    "print(\"demo_acc\",demo_acc)\n"
   ]
  },
  {
   "cell_type": "code",
   "execution_count": 130,
   "metadata": {},
   "outputs": [
    {
     "name": "stdout",
     "output_type": "stream",
     "text": [
      "4/4 [==============================] - 0s 4ms/step\n",
      "demo_acc [1.8656560182571411, 0.5]\n",
      "4/4 [==============================] - 0s 3ms/step\n",
      "Y new :L  [[0.02456481]\n",
      " [0.02456481]\n",
      " [0.02456481]\n",
      " [0.02456481]]\n"
     ]
    }
   ],
   "source": [
    "dem = [0, 1,0,1]\n",
    "\n",
    "dem_Y = le.fit_transform(dem)\n",
    "dem_Y = dem_Y.reshape(-1,1)\n",
    "\n",
    "text = [\"Jeanne Shaheen is dead\", \"Jeanne Shaheen is alive\",\"Joe Biden is dead\",\"Joe Biden is alive\"]\n",
    "dem_X = pd.DataFrame(data = text)\n",
    "dem_X.columns = ['text']\n",
    "\n",
    "demo_seq = tok.texts_to_sequences(dem_X.text)\n",
    "demo_seq_matrix = sequence.pad_sequences(demo_seq,maxlen=max_len)\n",
    "demo_acc = model.evaluate(demo_seq_matrix,dem_Y)\n",
    "print(\"demo_acc\",demo_acc)\n",
    "#model.fit(demo_seq_matrix,dem_Y,batch_size=128,epochs=10,\n",
    "#          validation_split=0,callbacks=[EarlyStopping(monitor='val_loss',min_delta=0.0001)])\n",
    "#demo_acc = model.evaluate(demo_seq_matrix,dem_Y)\n",
    "ynew = model.predict(demo_seq_matrix,verbose=1)\n",
    "print(\"Y new :L \", ynew)"
   ]
  },
  {
   "cell_type": "code",
   "execution_count": 144,
   "metadata": {},
   "outputs": [
    {
     "name": "stdout",
     "output_type": "stream",
     "text": [
      "4/4 [==============================] - 0s 4ms/step\n",
      "demo_acc [0.6937769651412964, 0.5]\n",
      "Train on 3 samples, validate on 1 samples\n",
      "Epoch 1/10\n",
      "3/3 [==============================] - 0s 22ms/step - loss: 0.6804 - accuracy: 0.6667 - val_loss: 0.7392 - val_accuracy: 0.0000e+00\n",
      "Epoch 2/10\n",
      "3/3 [==============================] - 0s 21ms/step - loss: 0.6721 - accuracy: 0.6667 - val_loss: 0.7519 - val_accuracy: 0.0000e+00\n",
      "4/4 [==============================] - 0s 3ms/step\n",
      "Y new :L  [[0.47148404]\n",
      " [0.47148404]\n",
      " [0.47148404]\n",
      " [0.47148404]]\n"
     ]
    }
   ],
   "source": [
    "dem = [0, 1,0,1]\n",
    "\n",
    "dem_Y = le.fit_transform(dem)\n",
    "dem_Y = dem_Y.reshape(-1,1)\n",
    "\n",
    "text = [\"Jeanne Shaheen is dead\", \"Jeanne Shaheen is alive\",\"Joe Biden is dead\",\"Joe Biden is alive\"]\n",
    "dem_X = pd.DataFrame(data = text)\n",
    "dem_X.columns = ['text']\n",
    "\n",
    "demo_seq = tok.texts_to_sequences(dem_X.text)\n",
    "demo_seq_matrix = sequence.pad_sequences(demo_seq,maxlen=max_len)\n",
    "demo_acc = model.evaluate(demo_seq_matrix,dem_Y)\n",
    "print(\"demo_acc\",demo_acc)\n",
    "model.fit(demo_seq_matrix,dem_Y,batch_size=128,epochs=10,\n",
    "          validation_split=0.1,callbacks=[EarlyStopping(monitor='val_loss',min_delta=0.0001)])\n",
    "#demo_acc = model.evaluate(demo_seq_matrix,dem_Y)\n",
    "ynew = model.predict(demo_seq_matrix,verbose=1)\n",
    "print(\"Y new :L \", ynew)"
   ]
  },
  {
   "cell_type": "code",
   "execution_count": 151,
   "metadata": {},
   "outputs": [
    {
     "name": "stdout",
     "output_type": "stream",
     "text": [
      "4/4 [==============================] - 0s 2ms/step\n",
      "demo_acc [0.6416919231414795, 0.75]\n",
      "4/4 [==============================] - 0s 3ms/step\n",
      "Y new :L  [[0.46461144]\n",
      " [0.3790954 ]\n",
      " [0.43703377]\n",
      " [0.47148404]]\n"
     ]
    }
   ],
   "source": [
    "dem = [0,0,1,0]\n",
    "\n",
    "dem_Y = le.fit_transform(dem)\n",
    "dem_Y = dem_Y.reshape(-1,1)\n",
    "\n",
    "text = [\"Jean Shaheen is a football player\", \"Biden found dead in his apartment\",\"Jean Shaheen is a human being\",\"Joe Biden is dead\"]\n",
    "dem_X = pd.DataFrame(data = text)\n",
    "dem_X.columns = ['text']\n",
    "\n",
    "demo_seq = tok.texts_to_sequences(dem_X.text)\n",
    "demo_seq_matrix = sequence.pad_sequences(demo_seq,maxlen=max_len)\n",
    "demo_acc = model.evaluate(demo_seq_matrix,dem_Y)\n",
    "print(\"demo_acc\",demo_acc)\n",
    "#model.fit(demo_seq_matrix,dem_Y,batch_size=128,epochs=10,\n",
    "      #    validation_split=0.1,callbacks=[EarlyStopping(monitor='val_loss',min_delta=0.0001)])\n",
    "#demo_acc = model.evaluate(demo_seq_matrix,dem_Y)\n",
    "ynew = model.predict(demo_seq_matrix,verbose=1)\n",
    "print(\"Y new :L \", ynew)"
   ]
  },
  {
   "cell_type": "code",
   "execution_count": 150,
   "metadata": {},
   "outputs": [],
   "source": [
    "from keras.utils import to_categorical\n",
    "Y_train = to_categorical(Y_train)"
   ]
  },
  {
   "cell_type": "code",
   "execution_count": 103,
   "metadata": {},
   "outputs": [
    {
     "name": "stdout",
     "output_type": "stream",
     "text": [
      "Model: \"model_6\"\n",
      "_________________________________________________________________\n",
      "Layer (type)                 Output Shape              Param #   \n",
      "=================================================================\n",
      "inputs (InputLayer)          (None, 150)               0         \n",
      "_________________________________________________________________\n",
      "embedding_6 (Embedding)      (None, 150, 50)           50000     \n",
      "_________________________________________________________________\n",
      "lstm_6 (LSTM)                (None, 64)                29440     \n",
      "_________________________________________________________________\n",
      "FC1 (Dense)                  (None, 256)               16640     \n",
      "_________________________________________________________________\n",
      "activation_11 (Activation)   (None, 256)               0         \n",
      "_________________________________________________________________\n",
      "dropout_6 (Dropout)          (None, 256)               0         \n",
      "_________________________________________________________________\n",
      "out_layer (Dense)            (None, 2)                 514       \n",
      "_________________________________________________________________\n",
      "activation_12 (Activation)   (None, 2)                 0         \n",
      "=================================================================\n",
      "Total params: 96,594\n",
      "Trainable params: 96,594\n",
      "Non-trainable params: 0\n",
      "_________________________________________________________________\n"
     ]
    },
    {
     "name": "stderr",
     "output_type": "stream",
     "text": [
      "C:\\Users\\veena\\Anaconda3\\lib\\site-packages\\tensorflow_core\\python\\framework\\indexed_slices.py:424: UserWarning: Converting sparse IndexedSlices to a dense Tensor of unknown shape. This may consume a large amount of memory.\n",
      "  \"Converting sparse IndexedSlices to a dense Tensor of unknown shape. \"\n"
     ]
    },
    {
     "name": "stdout",
     "output_type": "stream",
     "text": [
      "Train on 28734 samples, validate on 7184 samples\n",
      "Epoch 1/5\n",
      "28734/28734 [==============================] - 38s 1ms/step - loss: 0.1465 - accuracy: 0.9460 - val_loss: 0.0899 - val_accuracy: 0.9669\n",
      "Epoch 2/5\n",
      "28734/28734 [==============================] - 41s 1ms/step - loss: 0.0987 - accuracy: 0.9672 - val_loss: 0.0627 - val_accuracy: 0.9779\n",
      "Epoch 3/5\n",
      "28734/28734 [==============================] - 41s 1ms/step - loss: 0.0999 - accuracy: 0.9660 - val_loss: 0.1311 - val_accuracy: 0.9614\n"
     ]
    },
    {
     "data": {
      "text/plain": [
       "<keras.callbacks.callbacks.History at 0x1de43f24d88>"
      ]
     },
     "execution_count": 103,
     "metadata": {},
     "output_type": "execute_result"
    }
   ],
   "source": [
    "def LSTMKerasModel_Dense2():\n",
    "    inputs = Input(name='inputs',shape=[max_len])\n",
    "    layer = Embedding(max_words,50,input_length=max_len)(inputs)\n",
    "    layer = LSTM(64)(layer)\n",
    "    layer = Dense(256,name='FC1')(layer)\n",
    "    layer = Activation('relu')(layer)\n",
    "    layer = Dropout(0.5)(layer)\n",
    "    layer = Dense(2,name='out_layer')(layer)\n",
    "    layer = Activation('sigmoid')(layer)\n",
    "    model = Model(inputs=inputs,outputs=layer)\n",
    "    return model\n",
    "\n",
    "model_dense2 = LSTMKerasModel_Dense2()\n",
    "model_dense2.summary()\n",
    "model_dense2.compile(loss='binary_crossentropy', optimizer=Adam(lr=0.005),metrics=['accuracy'])\n",
    "\n",
    "model_dense2.fit(sequences_matrix,Y_train,batch_size=128,epochs=5,\n",
    "          validation_split=0.2,callbacks=[EarlyStopping(monitor='val_loss',min_delta=0.0001)])"
   ]
  },
  {
   "cell_type": "code",
   "execution_count": 104,
   "metadata": {},
   "outputs": [
    {
     "name": "stdout",
     "output_type": "stream",
     "text": [
      "8980/8980 [==============================] - 6s 657us/step\n",
      "Test set\n",
      "  Loss: 0.161\n",
      "  Accuracy: 0.956\n"
     ]
    }
   ],
   "source": [
    "test_sequences = tok.texts_to_sequences(X_test.text)\n",
    "test_sequences_matrix = sequence.pad_sequences(test_sequences,maxlen=max_len)\n",
    "\n",
    "Y_test_cat = to_categorical(Y_test)\n",
    "accr = model_dense2.evaluate(test_sequences_matrix,Y_test_cat)\n",
    "\n",
    "print('Test set\\n  Loss: {:0.3f}\\n  Accuracy: {:0.3f}'.format(accr[0],accr[1]))"
   ]
  },
  {
   "cell_type": "code",
   "execution_count": 105,
   "metadata": {},
   "outputs": [
    {
     "name": "stdout",
     "output_type": "stream",
     "text": [
      "2/2 [==============================] - 0s 7ms/step\n",
      "Test set\n",
      "  Loss: 0.657\n",
      "  Accuracy: 0.500\n"
     ]
    }
   ],
   "source": [
    "demo_seq = tok.texts_to_sequences(dem_X.text)\n",
    "demo_seq_matrix = sequence.pad_sequences(demo_seq,maxlen=max_len)\n",
    "\n",
    "dem_cat_Y = to_categorical(dem_Y)\n",
    "\n",
    "demo_acc = model_dense2.evaluate(demo_seq_matrix,dem_cat_Y)\n",
    "\n",
    "print('Test set\\n  Loss: {:0.3f}\\n  Accuracy: {:0.3f}'.format(demo_acc[0],demo_acc[1]))"
   ]
  },
  {
   "cell_type": "code",
   "execution_count": 106,
   "metadata": {},
   "outputs": [
    {
     "name": "stdout",
     "output_type": "stream",
     "text": [
      "\r",
      "2/2 [==============================] - 0s 32ms/step\n"
     ]
    },
    {
     "data": {
      "text/plain": [
       "array([[0.6373239 , 0.3556639 ],\n",
       "       [0.7495553 , 0.25324905]], dtype=float32)"
      ]
     },
     "execution_count": 106,
     "metadata": {},
     "output_type": "execute_result"
    }
   ],
   "source": [
    " model_dense2.predict(demo_seq_matrix,verbose=1)"
   ]
  },
  {
   "cell_type": "code",
   "execution_count": null,
   "metadata": {},
   "outputs": [],
   "source": []
  }
 ],
 "metadata": {
  "kernelspec": {
   "display_name": "Python 3",
   "language": "python",
   "name": "python3"
  },
  "language_info": {
   "codemirror_mode": {
    "name": "ipython",
    "version": 3
   },
   "file_extension": ".py",
   "mimetype": "text/x-python",
   "name": "python",
   "nbconvert_exporter": "python",
   "pygments_lexer": "ipython3",
   "version": "3.7.4"
  }
 },
 "nbformat": 4,
 "nbformat_minor": 4
}
